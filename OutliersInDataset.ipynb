{
  "nbformat": 4,
  "nbformat_minor": 0,
  "metadata": {
    "colab": {
      "name": "OutliersInDataset.ipynb",
      "provenance": [],
      "collapsed_sections": []
    },
    "kernelspec": {
      "name": "python3",
      "display_name": "Python 3"
    }
  },
  "cells": [
    {
      "cell_type": "markdown",
      "metadata": {
        "id": "53F-kzMmB--Y",
        "colab_type": "text"
      },
      "source": [
        "An outlier is a data point in a data set that is distant from all other observations. A data point that lies outside the overall distribution of the dataset."
      ]
    },
    {
      "cell_type": "code",
      "metadata": {
        "id": "GtDs1jfDCAy1",
        "colab_type": "code",
        "colab": {}
      },
      "source": [
        "import numpy as np\n",
        "import matplotlib.pyplot as plt\n",
        "%matplotlib inline"
      ],
      "execution_count": 1,
      "outputs": []
    },
    {
      "cell_type": "markdown",
      "metadata": {
        "id": "zu4U7cEQCQdd",
        "colab_type": "text"
      },
      "source": [
        "Criterias for identifying Outliers\n",
        "\n",
        "\n",
        "1.   Data point that falls outside of 1.5 times of an interquartile range above the 3rd quartile and below the 1st quartile\n",
        "2.   Data point that falls outside of 3 standard deviations. we can use a z score and if the z score falls outside of 2 standard deviation"
      ]
    },
    {
      "cell_type": "markdown",
      "metadata": {
        "id": "mI8inGo1CfRO",
        "colab_type": "text"
      },
      "source": [
        "Reason for an outlier to exists in a dataset\n",
        "\n",
        "\n",
        "1.   Variability in the data\n",
        "2.   Experimental measurement error\n",
        "\n"
      ]
    },
    {
      "cell_type": "markdown",
      "metadata": {
        "id": "nduh7AGDCuOG",
        "colab_type": "text"
      },
      "source": [
        "Impacts of having outliers in a dataset\n",
        "\n",
        "\n",
        "1.   Causes various problems during our statistical analysis\n",
        "2.   Might cause a significant impact on the mean and the standard deviation\n",
        "\n"
      ]
    },
    {
      "cell_type": "markdown",
      "metadata": {
        "id": "CfR8F2V4C7b8",
        "colab_type": "text"
      },
      "source": [
        "Various ways of finding the outlier\n",
        "\n",
        "\n",
        "1.   Using scatter plots\n",
        "2.   Box plot\n",
        "3.   using z score\n",
        "4.   using the IQR interquantile range\n",
        "\n",
        "\n"
      ]
    },
    {
      "cell_type": "code",
      "metadata": {
        "id": "SNyc-CUsCJmk",
        "colab_type": "code",
        "colab": {}
      },
      "source": [
        "dataset= [11,10,12,14,12,15,14,13,15,102,12,14,17,19,107, 10,13,12,14,12,108,12,11,14,13,15,10,15,12,10,14,13,15,10]"
      ],
      "execution_count": 2,
      "outputs": []
    },
    {
      "cell_type": "markdown",
      "metadata": {
        "id": "bjhh_zwTFHlS",
        "colab_type": "text"
      },
      "source": [
        "Detecting outlier using Z score\n",
        "\n",
        "Formula for Z score = (Observation — Mean)/Standard Deviation\n",
        "\n",
        "z = (X — μ) / σ"
      ]
    },
    {
      "cell_type": "code",
      "metadata": {
        "id": "ufc3QKRaDKpS",
        "colab_type": "code",
        "colab": {}
      },
      "source": [
        "outliers=[]\n",
        "def detect_outliers(data):\n",
        "    \n",
        "    threshold=3\n",
        "    mean = np.mean(data)\n",
        "    std =np.std(data)\n",
        "    \n",
        "    \n",
        "    for i in data:\n",
        "        z_score= (i - mean)/std \n",
        "        if np.abs(z_score) > threshold:\n",
        "            outliers.append(i)\n",
        "    return outliers"
      ],
      "execution_count": 5,
      "outputs": []
    },
    {
      "cell_type": "code",
      "metadata": {
        "id": "wXHpEtrzFOMh",
        "colab_type": "code",
        "colab": {}
      },
      "source": [
        "outlier_pt=detect_outliers(dataset)"
      ],
      "execution_count": 6,
      "outputs": []
    },
    {
      "cell_type": "code",
      "metadata": {
        "id": "fjbzrug3FQT4",
        "colab_type": "code",
        "colab": {
          "base_uri": "https://localhost:8080/",
          "height": 34
        },
        "outputId": "30b155a2-5530-45f6-871c-bed9389e5e46"
      },
      "source": [
        "outlier_pt"
      ],
      "execution_count": 7,
      "outputs": [
        {
          "output_type": "execute_result",
          "data": {
            "text/plain": [
              "[102, 107, 108]"
            ]
          },
          "metadata": {
            "tags": []
          },
          "execution_count": 7
        }
      ]
    },
    {
      "cell_type": "markdown",
      "metadata": {
        "id": "-6KxMT7nFeHt",
        "colab_type": "text"
      },
      "source": [
        "InterQuantile Range\n",
        "\n",
        "75%- 25% values in a dataset\n",
        "\n",
        "Steps\n",
        "1. Arrange the data in increasing order\n",
        "2. Calculate first(q1) and third quartile(q3)\n",
        "3. Find interquartile range (q3-q1)\n",
        "4.Find lower bound q1*1.5\n",
        "5.Find upper bound q3*1.5"
      ]
    },
    {
      "cell_type": "code",
      "metadata": {
        "id": "a0_g9yk6FWww",
        "colab_type": "code",
        "colab": {
          "base_uri": "https://localhost:8080/",
          "height": 595
        },
        "outputId": "b12e1de6-303f-46eb-e77f-6e9d7f676b98"
      },
      "source": [
        "sorted(dataset)"
      ],
      "execution_count": 8,
      "outputs": [
        {
          "output_type": "execute_result",
          "data": {
            "text/plain": [
              "[10,\n",
              " 10,\n",
              " 10,\n",
              " 10,\n",
              " 10,\n",
              " 11,\n",
              " 11,\n",
              " 12,\n",
              " 12,\n",
              " 12,\n",
              " 12,\n",
              " 12,\n",
              " 12,\n",
              " 12,\n",
              " 13,\n",
              " 13,\n",
              " 13,\n",
              " 13,\n",
              " 14,\n",
              " 14,\n",
              " 14,\n",
              " 14,\n",
              " 14,\n",
              " 14,\n",
              " 15,\n",
              " 15,\n",
              " 15,\n",
              " 15,\n",
              " 15,\n",
              " 17,\n",
              " 19,\n",
              " 102,\n",
              " 107,\n",
              " 108]"
            ]
          },
          "metadata": {
            "tags": []
          },
          "execution_count": 8
        }
      ]
    },
    {
      "cell_type": "code",
      "metadata": {
        "id": "eA6iDSXvFwh1",
        "colab_type": "code",
        "colab": {
          "base_uri": "https://localhost:8080/",
          "height": 34
        },
        "outputId": "596f190c-f93d-45bb-c280-79328f228bed"
      },
      "source": [
        "quantile1, quantile3= np.percentile(dataset,[25,75])\n",
        "print(quantile1,quantile3)"
      ],
      "execution_count": 9,
      "outputs": [
        {
          "output_type": "stream",
          "text": [
            "12.0 15.0\n"
          ],
          "name": "stdout"
        }
      ]
    },
    {
      "cell_type": "code",
      "metadata": {
        "id": "dIy2iGUnF1Uc",
        "colab_type": "code",
        "colab": {
          "base_uri": "https://localhost:8080/",
          "height": 34
        },
        "outputId": "e75328c2-b088-4b78-8522-4da2e5947c6f"
      },
      "source": [
        "iqr_value=quantile3-quantile1\n",
        "print(iqr_value)"
      ],
      "execution_count": 10,
      "outputs": [
        {
          "output_type": "stream",
          "text": [
            "3.0\n"
          ],
          "name": "stdout"
        }
      ]
    },
    {
      "cell_type": "code",
      "metadata": {
        "id": "XrNmsyiTF4Zz",
        "colab_type": "code",
        "colab": {}
      },
      "source": [
        "lower_bound_val = quantile1 -(1.5 * iqr_value) \n",
        "upper_bound_val = quantile3 +(1.5 * iqr_value)"
      ],
      "execution_count": 12,
      "outputs": []
    },
    {
      "cell_type": "code",
      "metadata": {
        "id": "ShCpwCNmF7Ny",
        "colab_type": "code",
        "colab": {
          "base_uri": "https://localhost:8080/",
          "height": 34
        },
        "outputId": "de892de8-bd5f-4a36-9b04-0210ece7a58f"
      },
      "source": [
        "print(lower_bound_val,upper_bound_val)"
      ],
      "execution_count": 13,
      "outputs": [
        {
          "output_type": "stream",
          "text": [
            "7.5 19.5\n"
          ],
          "name": "stdout"
        }
      ]
    },
    {
      "cell_type": "code",
      "metadata": {
        "id": "1UmCUIKdGC1k",
        "colab_type": "code",
        "colab": {}
      },
      "source": [
        ""
      ],
      "execution_count": null,
      "outputs": []
    }
  ]
}