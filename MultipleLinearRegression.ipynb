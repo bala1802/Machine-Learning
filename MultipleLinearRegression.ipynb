{
  "nbformat": 4,
  "nbformat_minor": 0,
  "metadata": {
    "colab": {
      "name": "MultipleLinearRegression.ipynb",
      "provenance": [],
      "collapsed_sections": []
    },
    "kernelspec": {
      "name": "python3",
      "display_name": "Python 3"
    }
  },
  "cells": [
    {
      "cell_type": "code",
      "metadata": {
        "id": "B_jwcn1DA967",
        "colab_type": "code",
        "colab": {
          "base_uri": "https://localhost:8080/",
          "height": 34
        },
        "outputId": "65c0537b-72e5-42d1-9da0-06ef2974e217"
      },
      "source": [
        "cd /content/drive/My Drive/MLin90Days"
      ],
      "execution_count": 2,
      "outputs": [
        {
          "output_type": "stream",
          "text": [
            "/content/drive/My Drive/MLin90Days\n"
          ],
          "name": "stdout"
        }
      ]
    },
    {
      "cell_type": "code",
      "metadata": {
        "id": "QXu-DQ4cBqy4",
        "colab_type": "code",
        "colab": {}
      },
      "source": [
        "import numpy as np\n",
        "import matplotlib.pyplot as plt\n",
        "import pandas as pd"
      ],
      "execution_count": 3,
      "outputs": []
    },
    {
      "cell_type": "code",
      "metadata": {
        "id": "1bD4eXKNBrbP",
        "colab_type": "code",
        "colab": {}
      },
      "source": [
        "dataset = pd.read_csv('50_Startups.csv')\n",
        "X = dataset.iloc[:, :-1]\n",
        "y = dataset.iloc[:, 4]"
      ],
      "execution_count": 9,
      "outputs": []
    },
    {
      "cell_type": "code",
      "metadata": {
        "id": "3n8GYrA3By6n",
        "colab_type": "code",
        "colab": {
          "base_uri": "https://localhost:8080/",
          "height": 119
        },
        "outputId": "984be0b8-3fb4-4014-ced3-ab1351a1b87d"
      },
      "source": [
        "y.head()"
      ],
      "execution_count": 11,
      "outputs": [
        {
          "output_type": "execute_result",
          "data": {
            "text/plain": [
              "0    192261.83\n",
              "1    191792.06\n",
              "2    191050.39\n",
              "3    182901.99\n",
              "4    166187.94\n",
              "Name: Profit, dtype: float64"
            ]
          },
          "metadata": {
            "tags": []
          },
          "execution_count": 11
        }
      ]
    },
    {
      "cell_type": "markdown",
      "metadata": {
        "id": "MMrqnwxWCnnu",
        "colab_type": "text"
      },
      "source": [
        "One hot encoding on the States columns"
      ]
    },
    {
      "cell_type": "code",
      "metadata": {
        "id": "M8qXH0K3B0GH",
        "colab_type": "code",
        "colab": {}
      },
      "source": [
        "states=pd.get_dummies(X['State'],drop_first=True)"
      ],
      "execution_count": 13,
      "outputs": []
    },
    {
      "cell_type": "markdown",
      "metadata": {
        "id": "WIf9pP3tDIJ9",
        "colab_type": "text"
      },
      "source": [
        "Drop the state column"
      ]
    },
    {
      "cell_type": "code",
      "metadata": {
        "id": "2pujGgA5ClOh",
        "colab_type": "code",
        "colab": {}
      },
      "source": [
        "X=X.drop('State',axis=1)"
      ],
      "execution_count": 14,
      "outputs": []
    },
    {
      "cell_type": "markdown",
      "metadata": {
        "id": "Qr-tobwjDSB9",
        "colab_type": "text"
      },
      "source": [
        "Concatenate the One hot encoded state columns to the train dataset"
      ]
    },
    {
      "cell_type": "code",
      "metadata": {
        "id": "2RmpoqBbDK_t",
        "colab_type": "code",
        "colab": {}
      },
      "source": [
        "X=pd.concat([X,states],axis=1)"
      ],
      "execution_count": 15,
      "outputs": []
    },
    {
      "cell_type": "markdown",
      "metadata": {
        "id": "cyBHfuGfDlO1",
        "colab_type": "text"
      },
      "source": [
        "Split the dataset into Train and Test dataset"
      ]
    },
    {
      "cell_type": "code",
      "metadata": {
        "id": "vmmXdZzIDYE4",
        "colab_type": "code",
        "colab": {}
      },
      "source": [
        "from sklearn.model_selection import train_test_split\n",
        "X_train, X_test, y_train, y_test = train_test_split(X, y, test_size = 0.2, random_state = 0)"
      ],
      "execution_count": 16,
      "outputs": []
    },
    {
      "cell_type": "markdown",
      "metadata": {
        "id": "RrZOGheQFi--",
        "colab_type": "text"
      },
      "source": [
        "Fitting Multiple Linear Regression to the Training set"
      ]
    },
    {
      "cell_type": "code",
      "metadata": {
        "id": "Ngv4MURsFgH-",
        "colab_type": "code",
        "colab": {
          "base_uri": "https://localhost:8080/",
          "height": 34
        },
        "outputId": "bb947002-335e-463c-f19a-326e3ad3cfc7"
      },
      "source": [
        "from sklearn.linear_model import LinearRegression\n",
        "regressor = LinearRegression()\n",
        "regressor.fit(X_train, y_train)"
      ],
      "execution_count": 17,
      "outputs": [
        {
          "output_type": "execute_result",
          "data": {
            "text/plain": [
              "LinearRegression(copy_X=True, fit_intercept=True, n_jobs=None, normalize=False)"
            ]
          },
          "metadata": {
            "tags": []
          },
          "execution_count": 17
        }
      ]
    },
    {
      "cell_type": "markdown",
      "metadata": {
        "id": "na8mgBjDFq70",
        "colab_type": "text"
      },
      "source": [
        "Predicting the Test set results"
      ]
    },
    {
      "cell_type": "code",
      "metadata": {
        "id": "98B3-z41Flep",
        "colab_type": "code",
        "colab": {}
      },
      "source": [
        "y_pred = regressor.predict(X_test)"
      ],
      "execution_count": 18,
      "outputs": []
    },
    {
      "cell_type": "code",
      "metadata": {
        "id": "JfxWvoPlFtan",
        "colab_type": "code",
        "colab": {}
      },
      "source": [
        "from sklearn.metrics import r2_score\n",
        "score=r2_score(y_test,y_pred)"
      ],
      "execution_count": 19,
      "outputs": []
    },
    {
      "cell_type": "code",
      "metadata": {
        "id": "vlW3JrmNFv4M",
        "colab_type": "code",
        "colab": {
          "base_uri": "https://localhost:8080/",
          "height": 34
        },
        "outputId": "b2937540-6fcf-421e-b6e3-2bd20b9e65fe"
      },
      "source": [
        "score"
      ],
      "execution_count": 20,
      "outputs": [
        {
          "output_type": "execute_result",
          "data": {
            "text/plain": [
              "0.9347068473282423"
            ]
          },
          "metadata": {
            "tags": []
          },
          "execution_count": 20
        }
      ]
    },
    {
      "cell_type": "code",
      "metadata": {
        "id": "JYohy9B9FxIF",
        "colab_type": "code",
        "colab": {}
      },
      "source": [
        ""
      ],
      "execution_count": null,
      "outputs": []
    }
  ]
}